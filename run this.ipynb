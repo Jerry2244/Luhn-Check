{
 "cells": [
  {
   "cell_type": "markdown",
   "id": "f7725a7c",
   "metadata": {},
   "source": [
    "说明：“*”为未知号码，用于检测所有符合Luhn算法的号码\n",
    "\n",
    "输入规范如下：\n",
    "\n",
    "’62****‘ 或 ‘62**66’"
   ]
  },
  {
   "cell_type": "code",
   "execution_count": null,
   "id": "46d8628f-b192-4ef5-ac87-84db47c338d1",
   "metadata": {},
   "outputs": [],
   "source": [
    "from luhn import Luhn\n",
    "check = Luhn()\n",
    "\n",
    "\n",
    "check.checkallLuhn('****')\n"
   ]
  }
 ],
 "metadata": {
  "kernelspec": {
   "display_name": "Python 3",
   "language": "python",
   "name": "python3"
  },
  "language_info": {
   "codemirror_mode": {
    "name": "ipython",
    "version": 3
   },
   "file_extension": ".py",
   "mimetype": "text/x-python",
   "name": "python",
   "nbconvert_exporter": "python",
   "pygments_lexer": "ipython3",
   "version": "3.7.3"
  }
 },
 "nbformat": 4,
 "nbformat_minor": 5
}
